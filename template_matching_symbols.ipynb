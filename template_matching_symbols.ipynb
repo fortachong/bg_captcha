{
 "cells": [
  {
   "cell_type": "code",
   "execution_count": 17,
   "id": "4cb0e205",
   "metadata": {},
   "outputs": [],
   "source": [
    "import os\n",
    "import cv2\n",
    "import numpy as np\n",
    "from matplotlib import pyplot as plt\n",
    "from __future__ import print_function\n",
    "from ipywidgets import interact, interactive, fixed, interact_manual\n",
    "import ipywidgets as widgets"
   ]
  },
  {
   "cell_type": "code",
   "execution_count": 34,
   "id": "d4dc4fcf",
   "metadata": {},
   "outputs": [],
   "source": [
    "DIR_SYMBOLS = './symbols_1'\n",
    "DIR_IMAGES = './img'\n",
    "DIR_TMP = './tmp'\n",
    "DEFAULT_TEMPLATE_MATCHING_THRESHOLD = 0.8\n",
    "THR = 160"
   ]
  },
  {
   "cell_type": "code",
   "execution_count": 10,
   "id": "0d867e8d",
   "metadata": {},
   "outputs": [],
   "source": [
    "# Template Class\n",
    "class Template:\n",
    "    def __init__(\n",
    "        self,\n",
    "        image_path,\n",
    "        label,\n",
    "        color,\n",
    "        matching_threshold=DEFAULT_TEMPLATE_MATCHING_THRESHOLD\n",
    "    ):\n",
    "        self.image_path = image_path\n",
    "        self.label = label\n",
    "        self.color = color\n",
    "        self.template = cv2.imread(image_path)\n",
    "        self.template_height, self.template_width = self.template.shape[:2]\n",
    "        self.matching_threshold = matching_threshold"
   ]
  },
  {
   "cell_type": "code",
   "execution_count": 16,
   "id": "7c0cb895",
   "metadata": {},
   "outputs": [],
   "source": [
    "# Read all symbol images\n",
    "symbols_templates = []\n",
    "for ifile in os.listdir(DIR_SYMBOLS):\n",
    "    if ifile.endswith(\".png\"):\n",
    "        path = os.path.join(DIR_SYMBOLS, ifile)\n",
    "        label, _ = os.path.splitext(ifile)\n",
    "        t_ = Template(\n",
    "            image_path=path,\n",
    "            label=label,\n",
    "            color=(0,0,255)\n",
    "        )\n",
    "        symbols_templates.append(t_)"
   ]
  },
  {
   "cell_type": "code",
   "execution_count": 24,
   "id": "4991769b",
   "metadata": {},
   "outputs": [],
   "source": [
    "s_d = {s_.label: s_ for s_ in (symbols_templates)}\n",
    "s_ = sorted(s_d.keys())"
   ]
  },
  {
   "cell_type": "code",
   "execution_count": 32,
   "id": "5a12306e",
   "metadata": {},
   "outputs": [
    {
     "data": {
      "application/vnd.jupyter.widget-view+json": {
       "model_id": "ba6bfd350d004d6cb29e176faccfa794",
       "version_major": 2,
       "version_minor": 0
      },
      "text/plain": [
       "interactive(children=(Dropdown(description='symbol', options=('0', '1', '2', '3', '4', '5', '6', '7', '8', '9'…"
      ]
     },
     "metadata": {},
     "output_type": "display_data"
    }
   ],
   "source": [
    "@interact(symbol=s_)\n",
    "def show_symbol(symbol):\n",
    "    print(f\"Label = {symbol}\")\n",
    "    template = s_d[symbol].template\n",
    "    print(f\"Dim = {template.shape[1]} x {template.shape[0]}\")\n",
    "    plt.imshow(template)\n",
    "    plt.show()\n"
   ]
  },
  {
   "cell_type": "code",
   "execution_count": 129,
   "id": "e6b6d118",
   "metadata": {},
   "outputs": [],
   "source": [
    "# TEST = 'captcha_78.png'\n",
    "# TEST = 'captcha_83.png'\n",
    "TEST = 'captcha_19.png'\n",
    "filename, extension = os.path.splitext(TEST)\n",
    "test_path = os.path.join(DIR_IMAGES, TEST)"
   ]
  },
  {
   "cell_type": "code",
   "execution_count": 130,
   "id": "3acd953f",
   "metadata": {},
   "outputs": [
    {
     "data": {
      "text/plain": [
       "True"
      ]
     },
     "execution_count": 130,
     "metadata": {},
     "output_type": "execute_result"
    }
   ],
   "source": [
    "img = cv2.imread(test_path)\n",
    "gray = cv2.cvtColor(img, cv2.COLOR_BGR2GRAY)\n",
    "gray_inv = cv2.bitwise_not(gray)\n",
    "_, img_thr = cv2.threshold(gray_inv, THR, 255, cv2.THRESH_BINARY)\n",
    "test_file = filename + '_bw' + extension\n",
    "out_path = os.path.join(DIR_TMP, test_file)\n",
    "cv2.imwrite(out_path, img_thr)"
   ]
  },
  {
   "cell_type": "code",
   "execution_count": 131,
   "id": "b48c6b13",
   "metadata": {},
   "outputs": [],
   "source": [
    "img_ = cv2.imread(out_path)"
   ]
  },
  {
   "cell_type": "code",
   "execution_count": 132,
   "id": "21431473",
   "metadata": {},
   "outputs": [
    {
     "data": {
      "image/png": "[encoded data removed]",
      "text/plain": [
       "<Figure size 432x288 with 1 Axes>"
      ]
     },
     "metadata": {
      "needs_background": "light"
     },
     "output_type": "display_data"
    }
   ],
   "source": [
    "plt.imshow(img_)\n",
    "plt.show()"
   ]
  },
  {
   "cell_type": "code",
   "execution_count": 133,
   "id": "547cb7e7",
   "metadata": {},
   "outputs": [],
   "source": [
    "detections = []\n",
    "for template in symbols_templates:\n",
    "    template_matching = cv2.matchTemplate(\n",
    "        template.template, img_, cv2.TM_CCOEFF_NORMED\n",
    "    )\n",
    "    match_locations = np.where(template_matching >= template.matching_threshold)\n",
    "    for (x, y) in zip(match_locations[1], match_locations[0]):\n",
    "        match = {\n",
    "            \"TOP_LEFT_X\": x,\n",
    "            \"TOP_LEFT_Y\": y,\n",
    "            \"BOTTOM_RIGHT_X\": x + template.template_width,\n",
    "            \"BOTTOM_RIGHT_Y\": y + template.template_height,\n",
    "            \"MATCH_VALUE\": template_matching[y, x],\n",
    "            \"LABEL\": template.label,\n",
    "            \"COLOR\": template.color\n",
    "        }\n",
    "        \n",
    "        detections.append(match)"
   ]
  },
  {
   "cell_type": "code",
   "execution_count": 134,
   "id": "e280055a",
   "metadata": {},
   "outputs": [
    {
     "data": {
      "text/plain": [
       "[{'TOP_LEFT_X': 51,\n",
       "  'TOP_LEFT_Y': 0,\n",
       "  'BOTTOM_RIGHT_X': 64,\n",
       "  'BOTTOM_RIGHT_Y': 27,\n",
       "  'MATCH_VALUE': 0.97123766,\n",
       "  'LABEL': '1',\n",
       "  'COLOR': (0, 0, 255)},\n",
       " {'TOP_LEFT_X': 17,\n",
       "  'TOP_LEFT_Y': 0,\n",
       "  'BOTTOM_RIGHT_X': 31,\n",
       "  'BOTTOM_RIGHT_Y': 27,\n",
       "  'MATCH_VALUE': 0.8285608,\n",
       "  'LABEL': 'g',\n",
       "  'COLOR': (0, 0, 255)},\n",
       " {'TOP_LEFT_X': 33,\n",
       "  'TOP_LEFT_Y': 0,\n",
       "  'BOTTOM_RIGHT_X': 47,\n",
       "  'BOTTOM_RIGHT_Y': 27,\n",
       "  'MATCH_VALUE': 0.93714714,\n",
       "  'LABEL': 'g',\n",
       "  'COLOR': (0, 0, 255)},\n",
       " {'TOP_LEFT_X': 3,\n",
       "  'TOP_LEFT_Y': 0,\n",
       "  'BOTTOM_RIGHT_X': 17,\n",
       "  'BOTTOM_RIGHT_Y': 27,\n",
       "  'MATCH_VALUE': 0.84165895,\n",
       "  'LABEL': 'p',\n",
       "  'COLOR': (0, 0, 255)},\n",
       " {'TOP_LEFT_X': 17,\n",
       "  'TOP_LEFT_Y': 0,\n",
       "  'BOTTOM_RIGHT_X': 32,\n",
       "  'BOTTOM_RIGHT_Y': 27,\n",
       "  'MATCH_VALUE': 0.8804124,\n",
       "  'LABEL': 'q',\n",
       "  'COLOR': (0, 0, 255)}]"
      ]
     },
     "execution_count": 134,
     "metadata": {},
     "output_type": "execute_result"
    }
   ],
   "source": [
    "detections"
   ]
  },
  {
   "cell_type": "code",
   "execution_count": 135,
   "id": "7be8e371",
   "metadata": {},
   "outputs": [],
   "source": [
    "# Sort detections by Match Value\n",
    "detections_ = sorted(detections, key=lambda obj: obj['TOP_LEFT_X'], reverse=False)"
   ]
  },
  {
   "cell_type": "code",
   "execution_count": 136,
   "id": "dab22f50",
   "metadata": {},
   "outputs": [
    {
     "data": {
      "text/plain": [
       "[{'TOP_LEFT_X': 3,\n",
       "  'TOP_LEFT_Y': 0,\n",
       "  'BOTTOM_RIGHT_X': 17,\n",
       "  'BOTTOM_RIGHT_Y': 27,\n",
       "  'MATCH_VALUE': 0.84165895,\n",
       "  'LABEL': 'p',\n",
       "  'COLOR': (0, 0, 255)},\n",
       " {'TOP_LEFT_X': 17,\n",
       "  'TOP_LEFT_Y': 0,\n",
       "  'BOTTOM_RIGHT_X': 31,\n",
       "  'BOTTOM_RIGHT_Y': 27,\n",
       "  'MATCH_VALUE': 0.8285608,\n",
       "  'LABEL': 'g',\n",
       "  'COLOR': (0, 0, 255)},\n",
       " {'TOP_LEFT_X': 17,\n",
       "  'TOP_LEFT_Y': 0,\n",
       "  'BOTTOM_RIGHT_X': 32,\n",
       "  'BOTTOM_RIGHT_Y': 27,\n",
       "  'MATCH_VALUE': 0.8804124,\n",
       "  'LABEL': 'q',\n",
       "  'COLOR': (0, 0, 255)},\n",
       " {'TOP_LEFT_X': 33,\n",
       "  'TOP_LEFT_Y': 0,\n",
       "  'BOTTOM_RIGHT_X': 47,\n",
       "  'BOTTOM_RIGHT_Y': 27,\n",
       "  'MATCH_VALUE': 0.93714714,\n",
       "  'LABEL': 'g',\n",
       "  'COLOR': (0, 0, 255)},\n",
       " {'TOP_LEFT_X': 51,\n",
       "  'TOP_LEFT_Y': 0,\n",
       "  'BOTTOM_RIGHT_X': 64,\n",
       "  'BOTTOM_RIGHT_Y': 27,\n",
       "  'MATCH_VALUE': 0.97123766,\n",
       "  'LABEL': '1',\n",
       "  'COLOR': (0, 0, 255)}]"
      ]
     },
     "execution_count": 136,
     "metadata": {},
     "output_type": "execute_result"
    }
   ],
   "source": [
    "detections_"
   ]
  },
  {
   "cell_type": "code",
   "execution_count": 137,
   "id": "5a494474",
   "metadata": {},
   "outputs": [],
   "source": [
    "detections_sorted = [[],[],[],[]]\n",
    "idx = 0\n",
    "if len(detections_) > 2:\n",
    "    first_detection = detections_[0]\n",
    "    x_min = first_detection['TOP_LEFT_X']\n",
    "    x_max = (first_detection['BOTTOM_RIGHT_X'] + x_min) // 2\n",
    "    detections_sorted[idx].append(first_detection)\n",
    "    for detection in detections_[1:]:\n",
    "        if detection['TOP_LEFT_X'] > x_max:\n",
    "            idx += 1\n",
    "            x_min = detection['TOP_LEFT_X']\n",
    "            x_max = (detection['BOTTOM_RIGHT_X'] + x_min) // 2\n",
    "        if idx < 4:\n",
    "            detections_sorted[idx].append(detection)\n",
    "            "
   ]
  },
  {
   "cell_type": "code",
   "execution_count": 138,
   "id": "90bd2351",
   "metadata": {},
   "outputs": [
    {
     "data": {
      "text/plain": [
       "[[{'TOP_LEFT_X': 3,\n",
       "   'TOP_LEFT_Y': 0,\n",
       "   'BOTTOM_RIGHT_X': 17,\n",
       "   'BOTTOM_RIGHT_Y': 27,\n",
       "   'MATCH_VALUE': 0.84165895,\n",
       "   'LABEL': 'p',\n",
       "   'COLOR': (0, 0, 255)}],\n",
       " [{'TOP_LEFT_X': 17,\n",
       "   'TOP_LEFT_Y': 0,\n",
       "   'BOTTOM_RIGHT_X': 31,\n",
       "   'BOTTOM_RIGHT_Y': 27,\n",
       "   'MATCH_VALUE': 0.8285608,\n",
       "   'LABEL': 'g',\n",
       "   'COLOR': (0, 0, 255)},\n",
       "  {'TOP_LEFT_X': 17,\n",
       "   'TOP_LEFT_Y': 0,\n",
       "   'BOTTOM_RIGHT_X': 32,\n",
       "   'BOTTOM_RIGHT_Y': 27,\n",
       "   'MATCH_VALUE': 0.8804124,\n",
       "   'LABEL': 'q',\n",
       "   'COLOR': (0, 0, 255)}],\n",
       " [{'TOP_LEFT_X': 33,\n",
       "   'TOP_LEFT_Y': 0,\n",
       "   'BOTTOM_RIGHT_X': 47,\n",
       "   'BOTTOM_RIGHT_Y': 27,\n",
       "   'MATCH_VALUE': 0.93714714,\n",
       "   'LABEL': 'g',\n",
       "   'COLOR': (0, 0, 255)}],\n",
       " [{'TOP_LEFT_X': 51,\n",
       "   'TOP_LEFT_Y': 0,\n",
       "   'BOTTOM_RIGHT_X': 64,\n",
       "   'BOTTOM_RIGHT_Y': 27,\n",
       "   'MATCH_VALUE': 0.97123766,\n",
       "   'LABEL': '1',\n",
       "   'COLOR': (0, 0, 255)}]]"
      ]
     },
     "execution_count": 138,
     "metadata": {},
     "output_type": "execute_result"
    }
   ],
   "source": [
    "detections_sorted"
   ]
  },
  {
   "cell_type": "code",
   "execution_count": 139,
   "id": "992acf82",
   "metadata": {},
   "outputs": [],
   "source": [
    "# Sort each one, and take the first one\n",
    "final = [[], [], [], []]\n",
    "for idx, d_ in enumerate(detections_sorted):\n",
    "    final[idx] = sorted(d_, key=lambda obj: obj['MATCH_VALUE'], reverse=True)"
   ]
  },
  {
   "cell_type": "code",
   "execution_count": 140,
   "id": "7c67a42d",
   "metadata": {},
   "outputs": [
    {
     "name": "stdout",
     "output_type": "stream",
     "text": [
      "p\n",
      "q\n",
      "g\n",
      "1\n"
     ]
    }
   ],
   "source": [
    "for letters in final:\n",
    "    if len(letters):\n",
    "        print(letters[0]['LABEL'])"
   ]
  },
  {
   "cell_type": "code",
   "execution_count": null,
   "id": "612a6438",
   "metadata": {},
   "outputs": [],
   "source": []
  },
  {
   "cell_type": "code",
   "execution_count": null,
   "id": "fff1a676",
   "metadata": {},
   "outputs": [],
   "source": []
  }
 ],
 "metadata": {
  "kernelspec": {
   "display_name": "Python 3 (ipykernel)",
   "language": "python",
   "name": "python3"
  },
  "language_info": {
   "codemirror_mode": {
    "name": "ipython",
    "version": 3
   },
   "file_extension": ".py",
   "mimetype": "text/x-python",
   "name": "python",
   "nbconvert_exporter": "python",
   "pygments_lexer": "ipython3",
   "version": "3.9.12"
  }
 },
 "nbformat": 4,
 "nbformat_minor": 5
}

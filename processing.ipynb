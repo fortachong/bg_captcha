{
 "cells": [
  {
   "cell_type": "code",
   "execution_count": 11,
   "id": "b08230f4",
   "metadata": {},
   "outputs": [],
   "source": [
    "import cv2\n",
    "from matplotlib import pyplot as plt\n",
    "import numpy as np"
   ]
  },
  {
   "cell_type": "code",
   "execution_count": 5,
   "id": "2df90bce",
   "metadata": {},
   "outputs": [],
   "source": [
    "FILE = 'okdw.png'"
   ]
  },
  {
   "cell_type": "code",
   "execution_count": 6,
   "id": "462ce1e8",
   "metadata": {},
   "outputs": [],
   "source": [
    "img = cv2.imread(FILE)\n",
    "gray = cv2.cvtColor(img, cv2.COLOR_BGR2GRAY)\n",
    "gray_inv = cv2.bitwise_not(gray)\n",
    "ret, th1 = cv2.threshold(gray_inv, 160, 255, cv2.THRESH_BINARY)"
   ]
  },
  {
   "cell_type": "code",
   "execution_count": 10,
   "id": "128444cf",
   "metadata": {},
   "outputs": [
    {
     "data": {
      "text/plain": [
       "<matplotlib.image.AxesImage at 0x7f05b7c924c0>"
      ]
     },
     "execution_count": 10,
     "metadata": {},
     "output_type": "execute_result"
    },
    {
     "data": {
      "image/png": "[encoded data removed]",
      "text/plain": [
       "<Figure size 432x288 with 1 Axes>"
      ]
     },
     "metadata": {
      "needs_background": "light"
     },
     "output_type": "display_data"
    }
   ],
   "source": [
    "plt.imshow(th1, cmap='gray')"
   ]
  },
  {
   "cell_type": "code",
   "execution_count": 9,
   "id": "61e6de50",
   "metadata": {},
   "outputs": [
    {
     "data": {
      "text/plain": [
       "array([[0, 0, 0, ..., 0, 0, 0],\n",
       "       [0, 0, 0, ..., 0, 0, 0],\n",
       "       [0, 0, 0, ..., 0, 0, 0],\n",
       "       ...,\n",
       "       [0, 0, 0, ..., 0, 0, 0],\n",
       "       [0, 0, 0, ..., 0, 0, 0],\n",
       "       [0, 0, 0, ..., 0, 0, 0]], dtype=uint8)"
      ]
     },
     "execution_count": 9,
     "metadata": {},
     "output_type": "execute_result"
    }
   ],
   "source": [
    "th1"
   ]
  },
  {
   "cell_type": "code",
   "execution_count": 19,
   "id": "c0b117bf",
   "metadata": {},
   "outputs": [
    {
     "data": {
      "text/plain": [
       "True"
      ]
     },
     "execution_count": 19,
     "metadata": {},
     "output_type": "execute_result"
    }
   ],
   "source": [
    "FILE_OUT = 'test_bw.png'\n",
    "cv2.imwrite(FILE_OUT, th1)"
   ]
  },
  {
   "cell_type": "code",
   "execution_count": 13,
   "id": "63926ef5",
   "metadata": {},
   "outputs": [],
   "source": [
    "DEFAULT_TEMPLATE_MATCHING_THRESHOLD = 0.8"
   ]
  },
  {
   "cell_type": "code",
   "execution_count": 14,
   "id": "b307392c",
   "metadata": {},
   "outputs": [],
   "source": [
    "class Template:\n",
    "    def __init__(\n",
    "        self,\n",
    "        image_path,\n",
    "        label,\n",
    "        color,\n",
    "        matching_threshold=DEFAULT_TEMPLATE_MATCHING_THRESHOLD\n",
    "    ):\n",
    "        self.image_path = image_path\n",
    "        self.label = label\n",
    "        self.color = color\n",
    "        self.template = cv2.imread(image_path)\n",
    "        self.template_height, self.template_width = self.template.shape[:2]\n",
    "        self.matching_threshold = matching_threshold"
   ]
  },
  {
   "cell_type": "code",
   "execution_count": 20,
   "id": "76286c35",
   "metadata": {},
   "outputs": [],
   "source": [
    "image = cv2.imread(FILE_OUT)\n",
    "templates = [\n",
    "    Template(image_path=\"d.png\", label=\"d\", color=(0, 0, 255))\n",
    "]"
   ]
  },
  {
   "cell_type": "code",
   "execution_count": 16,
   "id": "e8dd3921",
   "metadata": {},
   "outputs": [
    {
     "data": {
      "text/plain": [
       "<matplotlib.image.AxesImage at 0x7f05b7c7d6a0>"
      ]
     },
     "execution_count": 16,
     "metadata": {},
     "output_type": "execute_result"
    },
    {
     "data": {
      "image/png": "[encoded data removed]",
      "text/plain": [
       "<Figure size 432x288 with 1 Axes>"
      ]
     },
     "metadata": {
      "needs_background": "light"
     },
     "output_type": "display_data"
    }
   ],
   "source": [
    "plt.imshow(templates[0].template)"
   ]
  },
  {
   "cell_type": "code",
   "execution_count": 21,
   "id": "54524437",
   "metadata": {},
   "outputs": [
    {
     "data": {
      "text/plain": [
       "<matplotlib.image.AxesImage at 0x7f05b6600a90>"
      ]
     },
     "execution_count": 21,
     "metadata": {},
     "output_type": "execute_result"
    },
    {
     "data": {
      "image/png": "[encoded data removed]",
      "text/plain": [
       "<Figure size 432x288 with 1 Axes>"
      ]
     },
     "metadata": {
      "needs_background": "light"
     },
     "output_type": "display_data"
    }
   ],
   "source": [
    "plt.imshow(image)"
   ]
  },
  {
   "cell_type": "code",
   "execution_count": 22,
   "id": "9e6bc99a",
   "metadata": {},
   "outputs": [],
   "source": [
    "detections = []\n",
    "for template in templates:\n",
    "    template_matching = cv2.matchTemplate(\n",
    "        template.template, image, cv2.TM_CCOEFF_NORMED\n",
    "    )\n",
    "    match_locations = np.where(template_matching >= template.matching_threshold)\n",
    "    for (x, y) in zip(match_locations[1], match_locations[0]):\n",
    "        match = {\n",
    "            \"TOP_LEFT_X\": x,\n",
    "            \"TOP_LEFT_Y\": y,\n",
    "            \"BOTTOM_RIGHT_X\": x + template.template_width,\n",
    "            \"BOTTOM_RIGHT_Y\": y + template.template_height,\n",
    "            \"MATCH_VALUE\": template_matching[y, x],\n",
    "            \"LABEL\": template.label,\n",
    "            \"COLOR\": template.color\n",
    "        }\n",
    "        \n",
    "        detections.append(match)"
   ]
  },
  {
   "cell_type": "code",
   "execution_count": 24,
   "id": "124901d9",
   "metadata": {},
   "outputs": [
    {
     "data": {
      "text/plain": [
       "[{'TOP_LEFT_X': 45,\n",
       "  'TOP_LEFT_Y': 2,\n",
       "  'BOTTOM_RIGHT_X': 62,\n",
       "  'BOTTOM_RIGHT_Y': 26,\n",
       "  'MATCH_VALUE': 0.98043984,\n",
       "  'LABEL': 'd',\n",
       "  'COLOR': (0, 0, 255)},\n",
       " {'TOP_LEFT_X': 45,\n",
       "  'TOP_LEFT_Y': 3,\n",
       "  'BOTTOM_RIGHT_X': 62,\n",
       "  'BOTTOM_RIGHT_Y': 27,\n",
       "  'MATCH_VALUE': 0.8088926,\n",
       "  'LABEL': 'd',\n",
       "  'COLOR': (0, 0, 255)}]"
      ]
     },
     "execution_count": 24,
     "metadata": {},
     "output_type": "execute_result"
    }
   ],
   "source": [
    "detections"
   ]
  },
  {
   "cell_type": "code",
   "execution_count": 25,
   "id": "71ba11fe",
   "metadata": {},
   "outputs": [],
   "source": [
    "detections_ = sorted(detections, key=lambda obj: obj['MATCH_VALUE'], reverse=True)"
   ]
  },
  {
   "cell_type": "code",
   "execution_count": 26,
   "id": "fb845e18",
   "metadata": {},
   "outputs": [
    {
     "data": {
      "text/plain": [
       "[{'TOP_LEFT_X': 45,\n",
       "  'TOP_LEFT_Y': 2,\n",
       "  'BOTTOM_RIGHT_X': 62,\n",
       "  'BOTTOM_RIGHT_Y': 26,\n",
       "  'MATCH_VALUE': 0.98043984,\n",
       "  'LABEL': 'd',\n",
       "  'COLOR': (0, 0, 255)},\n",
       " {'TOP_LEFT_X': 45,\n",
       "  'TOP_LEFT_Y': 3,\n",
       "  'BOTTOM_RIGHT_X': 62,\n",
       "  'BOTTOM_RIGHT_Y': 27,\n",
       "  'MATCH_VALUE': 0.8088926,\n",
       "  'LABEL': 'd',\n",
       "  'COLOR': (0, 0, 255)}]"
      ]
     },
     "execution_count": 26,
     "metadata": {},
     "output_type": "execute_result"
    }
   ],
   "source": [
    "detections_[0]"
   ]
  },
  {
   "cell_type": "code",
   "execution_count": 27,
   "id": "f0b55f91",
   "metadata": {},
   "outputs": [],
   "source": [
    "image_with_detections = image.copy()\n",
    "for detection in detections_[:1]:\n",
    "    cv2.rectangle(\n",
    "        image_with_detections,\n",
    "        (detection[\"TOP_LEFT_X\"], detection[\"TOP_LEFT_Y\"]),\n",
    "        (detection[\"BOTTOM_RIGHT_X\"], detection[\"BOTTOM_RIGHT_Y\"]),\n",
    "        detection[\"COLOR\"],\n",
    "        2\n",
    "    )"
   ]
  },
  {
   "cell_type": "code",
   "execution_count": 28,
   "id": "b0a5e1e8",
   "metadata": {},
   "outputs": [
    {
     "data": {
      "text/plain": [
       "True"
      ]
     },
     "execution_count": 28,
     "metadata": {},
     "output_type": "execute_result"
    }
   ],
   "source": [
    "cv2.imwrite(\"result_2.jpeg\", image_with_detections)"
   ]
  },
  {
   "cell_type": "code",
   "execution_count": null,
   "id": "520b9868",
   "metadata": {},
   "outputs": [],
   "source": []
  }
 ],
 "metadata": {
  "kernelspec": {
   "display_name": "Python 3 (ipykernel)",
   "language": "python",
   "name": "python3"
  },
  "language_info": {
   "codemirror_mode": {
    "name": "ipython",
    "version": 3
   },
   "file_extension": ".py",
   "mimetype": "text/x-python",
   "name": "python",
   "nbconvert_exporter": "python",
   "pygments_lexer": "ipython3",
   "version": "3.9.12"
  }
 },
 "nbformat": 4,
 "nbformat_minor": 5
}

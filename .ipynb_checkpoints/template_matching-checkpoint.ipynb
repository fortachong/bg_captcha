{
 "cells": [
  {
   "cell_type": "code",
   "execution_count": 1,
   "id": "c86e5890",
   "metadata": {},
   "outputs": [],
   "source": [
    "import cv2\n",
    "import numpy as np"
   ]
  },
  {
   "cell_type": "code",
   "execution_count": 2,
   "id": "b832d228",
   "metadata": {},
   "outputs": [],
   "source": [
    "DEFAULT_TEMPLATE_MATCHING_THRESHOLD = 0.5"
   ]
  },
  {
   "cell_type": "code",
   "execution_count": 3,
   "id": "d187ac93",
   "metadata": {},
   "outputs": [],
   "source": [
    "class Template:\n",
    "    def __init__(\n",
    "        self,\n",
    "        image_path,\n",
    "        label,\n",
    "        color,\n",
    "        matching_threshold=DEFAULT_TEMPLATE_MATCHING_THRESHOLD\n",
    "    ):\n",
    "        self.image_path = image_path\n",
    "        self.label = label\n",
    "        self.color = color\n",
    "        self.template = cv2.imread(image_path)\n",
    "        self.template_height, self.template_width = self.template.shape[:2]\n",
    "        self.matching_threshold = matching_threshold"
   ]
  },
  {
   "cell_type": "code",
   "execution_count": 16,
   "id": "16f81e04",
   "metadata": {},
   "outputs": [],
   "source": [
    "FILE = 'test.png'"
   ]
  },
  {
   "cell_type": "code",
   "execution_count": 17,
   "id": "2090942e",
   "metadata": {},
   "outputs": [],
   "source": [
    "image = cv2.imread(FILE)\n",
    "templates = [\n",
    "    Template(image_path=\"d.png\", label=\"d\", color=(0, 0, 255))\n",
    "]"
   ]
  },
  {
   "cell_type": "code",
   "execution_count": 20,
   "id": "32e4d11f",
   "metadata": {},
   "outputs": [],
   "source": [
    "detections = []\n",
    "for template in templates:\n",
    "    template_matching = cv2.matchTemplate(\n",
    "        template.template, image, cv2.TM_CCOEFF_NORMED\n",
    "    )\n",
    "    match_locations = np.where(template_matching >= template.matching_threshold)\n",
    "    for (x, y) in zip(match_locations[1], match_locations[0]):\n",
    "        match = {\n",
    "            \"TOP_LEFT_X\": x,\n",
    "            \"TOP_LEFT_Y\": y,\n",
    "            \"BOTTOM_RIGHT_X\": x + template.template_width,\n",
    "            \"BOTTOM_RIGHT_Y\": y + template.template_height,\n",
    "            \"MATCH_VALUE\": template_matching[y, x],\n",
    "            \"LABEL\": template.label,\n",
    "            \"COLOR\": template.color\n",
    "        }\n",
    "        \n",
    "        detections.append(match)"
   ]
  },
  {
   "cell_type": "code",
   "execution_count": 21,
   "id": "878158ff",
   "metadata": {},
   "outputs": [],
   "source": [
    "image_with_detections = image.copy()\n",
    "for detection in detections:\n",
    "    cv2.rectangle(\n",
    "        image_with_detections,\n",
    "        (detection[\"TOP_LEFT_X\"], detection[\"TOP_LEFT_Y\"]),\n",
    "        (detection[\"BOTTOM_RIGHT_X\"], detection[\"BOTTOM_RIGHT_Y\"]),\n",
    "        detection[\"COLOR\"],\n",
    "        2\n",
    "    )\n",
    "    cv2.putText(\n",
    "        image_with_detections,\n",
    "        f\"{detection['LABEL']} - {detection['MATCH_VALUE']}\",\n",
    "        (detection[\"TOP_LEFT_X\"] + 2, detection[\"TOP_LEFT_Y\"] + 20),\n",
    "        cv2.FONT_HERSHEY_SIMPLEX,\n",
    "        0.5,\n",
    "        detection[\"COLOR\"],\n",
    "        1,\n",
    "        cv2.LINE_AA\n",
    "    )"
   ]
  },
  {
   "cell_type": "code",
   "execution_count": 22,
   "id": "bd5c0a6f",
   "metadata": {},
   "outputs": [
    {
     "data": {
      "text/plain": [
       "[{'TOP_LEFT_X': 4,\n",
       "  'TOP_LEFT_Y': 0,\n",
       "  'BOTTOM_RIGHT_X': 21,\n",
       "  'BOTTOM_RIGHT_Y': 24,\n",
       "  'MATCH_VALUE': 0.50685394,\n",
       "  'LABEL': 'd',\n",
       "  'COLOR': (0, 0, 255)},\n",
       " {'TOP_LEFT_X': 5,\n",
       "  'TOP_LEFT_Y': 0,\n",
       "  'BOTTOM_RIGHT_X': 22,\n",
       "  'BOTTOM_RIGHT_Y': 24,\n",
       "  'MATCH_VALUE': 0.7625467,\n",
       "  'LABEL': 'd',\n",
       "  'COLOR': (0, 0, 255)},\n",
       " {'TOP_LEFT_X': 6,\n",
       "  'TOP_LEFT_Y': 0,\n",
       "  'BOTTOM_RIGHT_X': 23,\n",
       "  'BOTTOM_RIGHT_Y': 24,\n",
       "  'MATCH_VALUE': 0.5068539,\n",
       "  'LABEL': 'd',\n",
       "  'COLOR': (0, 0, 255)},\n",
       " {'TOP_LEFT_X': 44,\n",
       "  'TOP_LEFT_Y': 0,\n",
       "  'BOTTOM_RIGHT_X': 61,\n",
       "  'BOTTOM_RIGHT_Y': 24,\n",
       "  'MATCH_VALUE': 0.5950329,\n",
       "  'LABEL': 'd',\n",
       "  'COLOR': (0, 0, 255)},\n",
       " {'TOP_LEFT_X': 4,\n",
       "  'TOP_LEFT_Y': 1,\n",
       "  'BOTTOM_RIGHT_X': 21,\n",
       "  'BOTTOM_RIGHT_Y': 25,\n",
       "  'MATCH_VALUE': 0.6372464,\n",
       "  'LABEL': 'd',\n",
       "  'COLOR': (0, 0, 255)},\n",
       " {'TOP_LEFT_X': 5,\n",
       "  'TOP_LEFT_Y': 1,\n",
       "  'BOTTOM_RIGHT_X': 22,\n",
       "  'BOTTOM_RIGHT_Y': 25,\n",
       "  'MATCH_VALUE': 1.0,\n",
       "  'LABEL': 'd',\n",
       "  'COLOR': (0, 0, 255)},\n",
       " {'TOP_LEFT_X': 6,\n",
       "  'TOP_LEFT_Y': 1,\n",
       "  'BOTTOM_RIGHT_X': 23,\n",
       "  'BOTTOM_RIGHT_Y': 25,\n",
       "  'MATCH_VALUE': 0.6372462,\n",
       "  'LABEL': 'd',\n",
       "  'COLOR': (0, 0, 255)},\n",
       " {'TOP_LEFT_X': 44,\n",
       "  'TOP_LEFT_Y': 1,\n",
       "  'BOTTOM_RIGHT_X': 61,\n",
       "  'BOTTOM_RIGHT_Y': 25,\n",
       "  'MATCH_VALUE': 0.7773479,\n",
       "  'LABEL': 'd',\n",
       "  'COLOR': (0, 0, 255)},\n",
       " {'TOP_LEFT_X': 45,\n",
       "  'TOP_LEFT_Y': 1,\n",
       "  'BOTTOM_RIGHT_X': 62,\n",
       "  'BOTTOM_RIGHT_Y': 25,\n",
       "  'MATCH_VALUE': 0.5493763,\n",
       "  'LABEL': 'd',\n",
       "  'COLOR': (0, 0, 255)},\n",
       " {'TOP_LEFT_X': 4,\n",
       "  'TOP_LEFT_Y': 2,\n",
       "  'BOTTOM_RIGHT_X': 21,\n",
       "  'BOTTOM_RIGHT_Y': 26,\n",
       "  'MATCH_VALUE': 0.56383216,\n",
       "  'LABEL': 'd',\n",
       "  'COLOR': (0, 0, 255)},\n",
       " {'TOP_LEFT_X': 5,\n",
       "  'TOP_LEFT_Y': 2,\n",
       "  'BOTTOM_RIGHT_X': 22,\n",
       "  'BOTTOM_RIGHT_Y': 26,\n",
       "  'MATCH_VALUE': 0.8188474,\n",
       "  'LABEL': 'd',\n",
       "  'COLOR': (0, 0, 255)},\n",
       " {'TOP_LEFT_X': 6,\n",
       "  'TOP_LEFT_Y': 2,\n",
       "  'BOTTOM_RIGHT_X': 23,\n",
       "  'BOTTOM_RIGHT_Y': 26,\n",
       "  'MATCH_VALUE': 0.563832,\n",
       "  'LABEL': 'd',\n",
       "  'COLOR': (0, 0, 255)},\n",
       " {'TOP_LEFT_X': 44,\n",
       "  'TOP_LEFT_Y': 2,\n",
       "  'BOTTOM_RIGHT_X': 61,\n",
       "  'BOTTOM_RIGHT_Y': 26,\n",
       "  'MATCH_VALUE': 0.6711324,\n",
       "  'LABEL': 'd',\n",
       "  'COLOR': (0, 0, 255)},\n",
       " {'TOP_LEFT_X': 5,\n",
       "  'TOP_LEFT_Y': 3,\n",
       "  'BOTTOM_RIGHT_X': 22,\n",
       "  'BOTTOM_RIGHT_Y': 27,\n",
       "  'MATCH_VALUE': 0.63792634,\n",
       "  'LABEL': 'd',\n",
       "  'COLOR': (0, 0, 255)},\n",
       " {'TOP_LEFT_X': 44,\n",
       "  'TOP_LEFT_Y': 3,\n",
       "  'BOTTOM_RIGHT_X': 61,\n",
       "  'BOTTOM_RIGHT_Y': 27,\n",
       "  'MATCH_VALUE': 0.5364241,\n",
       "  'LABEL': 'd',\n",
       "  'COLOR': (0, 0, 255)}]"
      ]
     },
     "execution_count": 22,
     "metadata": {},
     "output_type": "execute_result"
    }
   ],
   "source": [
    "detections"
   ]
  },
  {
   "cell_type": "code",
   "execution_count": 23,
   "id": "2cdb7e20",
   "metadata": {},
   "outputs": [
    {
     "data": {
      "text/plain": [
       "True"
      ]
     },
     "execution_count": 23,
     "metadata": {},
     "output_type": "execute_result"
    }
   ],
   "source": [
    "cv2.imwrite(\"result.jpeg\", image_with_detections)"
   ]
  },
  {
   "cell_type": "code",
   "execution_count": null,
   "id": "ceb81df9",
   "metadata": {},
   "outputs": [],
   "source": []
  },
  {
   "cell_type": "code",
   "execution_count": 26,
   "id": "7856d449",
   "metadata": {},
   "outputs": [],
   "source": [
    "def non_max_suppression(\n",
    "    objects,\n",
    "    nom_max_suppression_threshold=0.5,\n",
    "    score_key=\"MATCH_VALUE\"\n",
    "):\n",
    "    sorted_objects = sorted(objects, key=lambda obj: obj[score_key], reverse=True)\n",
    "    filtered_objects = []\n",
    "    for object_ in sorted_objects:\n",
    "        overlap_found = False\n",
    "        for filtered_object in filtered_objects:\n",
    "            iou = compute_iou(object_, filtered_object)\n",
    "            if iou > non_max_suppression_threshold:\n",
    "                overlap_found = True\n",
    "                break\n",
    "            if not overlap_found:\n",
    "                filtered_objects.append(object_)\n",
    "    return filtered_objects"
   ]
  },
  {
   "cell_type": "code",
   "execution_count": 27,
   "id": "3631f96d",
   "metadata": {},
   "outputs": [
    {
     "ename": "TypeError",
     "evalue": "non_max_suppression() got an unexpected keyword argument 'non_max_suppression_threshold'",
     "output_type": "error",
     "traceback": [
      "\u001b[0;31m---------------------------------------------------------------------------\u001b[0m",
      "\u001b[0;31mTypeError\u001b[0m                                 Traceback (most recent call last)",
      "Input \u001b[0;32mIn [27]\u001b[0m, in \u001b[0;36m<cell line: 2>\u001b[0;34m()\u001b[0m\n\u001b[1;32m      1\u001b[0m NMS_THRESHOLD \u001b[38;5;241m=\u001b[39m \u001b[38;5;241m0.2\u001b[39m\n\u001b[0;32m----> 2\u001b[0m detections \u001b[38;5;241m=\u001b[39m \u001b[43mnon_max_suppression\u001b[49m\u001b[43m(\u001b[49m\u001b[43mdetections\u001b[49m\u001b[43m,\u001b[49m\u001b[43m \u001b[49m\u001b[43mnon_max_suppression_threshold\u001b[49m\u001b[38;5;241;43m=\u001b[39;49m\u001b[43mNMS_THRESHOLD\u001b[49m\u001b[43m)\u001b[49m\n",
      "\u001b[0;31mTypeError\u001b[0m: non_max_suppression() got an unexpected keyword argument 'non_max_suppression_threshold'"
     ]
    }
   ],
   "source": [
    "NMS_THRESHOLD = 0.2\n",
    "detections = non_max_suppression(detections, non_max_suppression_threshold=NMS_THRESHOLD)"
   ]
  },
  {
   "cell_type": "code",
   "execution_count": null,
   "id": "16cd4c83",
   "metadata": {},
   "outputs": [],
   "source": []
  }
 ],
 "metadata": {
  "kernelspec": {
   "display_name": "Python 3 (ipykernel)",
   "language": "python",
   "name": "python3"
  },
  "language_info": {
   "codemirror_mode": {
    "name": "ipython",
    "version": 3
   },
   "file_extension": ".py",
   "mimetype": "text/x-python",
   "name": "python",
   "nbconvert_exporter": "python",
   "pygments_lexer": "ipython3",
   "version": "3.9.12"
  }
 },
 "nbformat": 4,
 "nbformat_minor": 5
}

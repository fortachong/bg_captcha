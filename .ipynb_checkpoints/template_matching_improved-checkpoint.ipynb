{
 "cells": [
  {
   "cell_type": "code",
   "execution_count": 1,
   "id": "67ebbaaf",
   "metadata": {},
   "outputs": [],
   "source": [
    "import os\n",
    "import cv2\n",
    "import numpy as np\n",
    "from matplotlib import pyplot as plt\n",
    "from __future__ import print_function\n",
    "from ipywidgets import interact, interactive, fixed, interact_manual\n",
    "import ipywidgets as widgets"
   ]
  },
  {
   "cell_type": "code",
   "execution_count": 29,
   "id": "58f5dead",
   "metadata": {},
   "outputs": [],
   "source": [
    "DIR_SYMBOLS = './symbols_1'\n",
    "DIR_IMAGES = './img'\n",
    "DIR_TMP = './tmp'\n",
    "DEFAULT_TEMPLATE_MATCHING_THRESHOLD = 0.8\n",
    "THR = 160\n",
    "OFFSET_PIXELS = 2"
   ]
  },
  {
   "cell_type": "code",
   "execution_count": 3,
   "id": "347f1d0f",
   "metadata": {},
   "outputs": [],
   "source": [
    "# Template Class\n",
    "class Template:\n",
    "    def __init__(\n",
    "        self,\n",
    "        image_path,\n",
    "        label,\n",
    "        color,\n",
    "        matching_threshold=DEFAULT_TEMPLATE_MATCHING_THRESHOLD\n",
    "    ):\n",
    "        self.image_path = image_path\n",
    "        self.label = label\n",
    "        self.color = color\n",
    "        self.template = cv2.imread(image_path)\n",
    "        self.template_height, self.template_width = self.template.shape[:2]\n",
    "        self.matching_threshold = matching_threshold"
   ]
  },
  {
   "cell_type": "code",
   "execution_count": 4,
   "id": "c051de48",
   "metadata": {},
   "outputs": [],
   "source": [
    "# Read all symbol images\n",
    "symbols_templates = []\n",
    "for ifile in os.listdir(DIR_SYMBOLS):\n",
    "    if ifile.endswith(\".png\"):\n",
    "        path = os.path.join(DIR_SYMBOLS, ifile)\n",
    "        label, _ = os.path.splitext(ifile)\n",
    "        t_ = Template(\n",
    "            image_path=path,\n",
    "            label=label,\n",
    "            color=(0,0,255)\n",
    "        )\n",
    "        symbols_templates.append(t_)"
   ]
  },
  {
   "cell_type": "code",
   "execution_count": 5,
   "id": "4f9f1f50",
   "metadata": {},
   "outputs": [],
   "source": [
    "s_d = {s_.label: s_ for s_ in (symbols_templates)}\n",
    "s_ = sorted(s_d.keys())"
   ]
  },
  {
   "cell_type": "code",
   "execution_count": 90,
   "id": "2827129f",
   "metadata": {},
   "outputs": [
    {
     "data": {
      "application/vnd.jupyter.widget-view+json": {
       "model_id": "5763707e9b0146efa2711e03e07f5b45",
       "version_major": 2,
       "version_minor": 0
      },
      "text/plain": [
       "interactive(children=(Dropdown(description='symbol', options=('0', '1', '2', '3', '4', '5', '6', '7', '8', '9'…"
      ]
     },
     "metadata": {},
     "output_type": "display_data"
    }
   ],
   "source": [
    "@interact(symbol=s_)\n",
    "def show_symbol(symbol):\n",
    "    print(f\"Label = {symbol}\")\n",
    "    template = s_d[symbol].template\n",
    "    print(f\"Dim = {template.shape[1]} x {template.shape[0]}\")\n",
    "    plt.imshow(template[:,:,::-1])\n",
    "    plt.show()\n"
   ]
  },
  {
   "cell_type": "code",
   "execution_count": 68,
   "id": "ebb80cc1",
   "metadata": {},
   "outputs": [],
   "source": [
    "TEST = 'captcha_78.png'\n",
    "# TEST = 'captcha_83.png'\n",
    "# TEST = 'captcha_19.png'\n",
    "filename, extension = os.path.splitext(TEST)\n",
    "test_path = os.path.join(DIR_IMAGES, TEST)"
   ]
  },
  {
   "cell_type": "code",
   "execution_count": 69,
   "id": "8f8c9945",
   "metadata": {},
   "outputs": [
    {
     "data": {
      "text/plain": [
       "True"
      ]
     },
     "execution_count": 69,
     "metadata": {},
     "output_type": "execute_result"
    }
   ],
   "source": [
    "img = cv2.imread(test_path)\n",
    "gray = cv2.cvtColor(img, cv2.COLOR_BGR2GRAY)\n",
    "gray_inv = cv2.bitwise_not(gray)\n",
    "_, img_thr = cv2.threshold(gray_inv, THR, 255, cv2.THRESH_BINARY)\n",
    "test_file = filename + '_bw' + extension\n",
    "out_path = os.path.join(DIR_TMP, test_file)\n",
    "cv2.imwrite(out_path, img_thr)"
   ]
  },
  {
   "cell_type": "code",
   "execution_count": 70,
   "id": "d62284f7",
   "metadata": {},
   "outputs": [],
   "source": [
    "img_ = cv2.imread(out_path)"
   ]
  },
  {
   "cell_type": "code",
   "execution_count": 85,
   "id": "d959b31f",
   "metadata": {},
   "outputs": [
    {
     "data": {
      "image/png": "[encoded data removed]",
      "text/plain": [
       "<Figure size 432x288 with 1 Axes>"
      ]
     },
     "metadata": {
      "needs_background": "light"
     },
     "output_type": "display_data"
    }
   ],
   "source": [
    "plt.imshow(img[:,:,::-1])\n",
    "plt.show()"
   ]
  },
  {
   "cell_type": "code",
   "execution_count": 88,
   "id": "ce19ef9a",
   "metadata": {},
   "outputs": [
    {
     "data": {
      "image/png": "[encoded data removed]",
      "text/plain": [
       "<Figure size 432x288 with 1 Axes>"
      ]
     },
     "metadata": {
      "needs_background": "light"
     },
     "output_type": "display_data"
    }
   ],
   "source": [
    "plt.imshow(img_[:,:,::-1])\n",
    "plt.show()"
   ]
  },
  {
   "cell_type": "code",
   "execution_count": 72,
   "id": "f79aa6d7",
   "metadata": {},
   "outputs": [
    {
     "data": {
      "text/plain": [
       "(28, 110, 3)"
      ]
     },
     "execution_count": 72,
     "metadata": {},
     "output_type": "execute_result"
    }
   ],
   "source": [
    "img_.shape"
   ]
  },
  {
   "cell_type": "code",
   "execution_count": 79,
   "id": "2609a39d",
   "metadata": {},
   "outputs": [],
   "source": [
    "detections = []\n",
    "img_patch = img_\n",
    "width = img_patch.shape[1]\n",
    "offset = 0\n",
    "\n",
    "while offset < width:\n",
    "    detections_ = []\n",
    "    # Search template for all symbols\n",
    "    for template in symbols_templates:\n",
    "        template_matching = cv2.matchTemplate(\n",
    "            template.template, img_patch, cv2.TM_CCOEFF_NORMED\n",
    "        )\n",
    "        match_locations = np.where(template_matching >= template.matching_threshold)\n",
    "        for (x, y) in zip(match_locations[1], match_locations[0]):\n",
    "            match = {\n",
    "                \"TOP_LEFT_X\": x,\n",
    "                \"TOP_LEFT_Y\": y,\n",
    "                \"BOTTOM_RIGHT_X\": x + template.template_width,\n",
    "                \"BOTTOM_RIGHT_Y\": y + template.template_height,\n",
    "                \"MATCH_VALUE\": template_matching[y, x],\n",
    "                \"LABEL\": template.label,\n",
    "                \"COLOR\": template.color\n",
    "            }\n",
    "            # Append to detections\n",
    "            detections_.append(match)\n",
    "            \n",
    "    # If no detections finish\n",
    "    if len(detections_) > 0:\n",
    "        # Find the first ones\n",
    "        d_ = sorted(detections_, key=lambda obj: obj['TOP_LEFT_X'], reverse=False)\n",
    "        # print(d_)\n",
    "        fst_ = []\n",
    "        fst_.append(d_[0])\n",
    "        xmin = d_[0]['TOP_LEFT_X']\n",
    "        xmax = (xmin + d_[0]['BOTTOM_RIGHT_X'])//2\n",
    "        filtered = list(filter(lambda obj: obj['TOP_LEFT_X'] <= xmax, d_[1:]))\n",
    "        fst_ = fst_ + filtered\n",
    "        # Sort and select the one with highest MATCH_VALUE\n",
    "        fst_sorted = sorted(fst_, key=lambda obj: obj['MATCH_VALUE'], reverse=True)\n",
    "        detected = fst_sorted[0]\n",
    "        # Reduce the image\n",
    "        old_x = detected['BOTTOM_RIGHT_X']\n",
    "        img_patch = img_patch[:,old_x+1-OFFSET_PIXELS:,:]\n",
    "        # Update\n",
    "        detected['TOP_LEFT_X'] = detected['TOP_LEFT_X'] + offset\n",
    "        detected['BOTTOM_RIGHT_X'] = detected['BOTTOM_RIGHT_X'] + offset\n",
    "        # Update offset\n",
    "        offset += old_x + 1 - OFFSET_PIXELS\n",
    "        detections.append(detected)\n",
    "    else:\n",
    "        break\n",
    "        \n",
    "    # print(offset)"
   ]
  },
  {
   "cell_type": "code",
   "execution_count": 80,
   "id": "5365a0aa",
   "metadata": {},
   "outputs": [
    {
     "data": {
      "text/plain": [
       "[{'TOP_LEFT_X': 2,\n",
       "  'TOP_LEFT_Y': 0,\n",
       "  'BOTTOM_RIGHT_X': 16,\n",
       "  'BOTTOM_RIGHT_Y': 27,\n",
       "  'MATCH_VALUE': 0.8575702,\n",
       "  'LABEL': 'g',\n",
       "  'COLOR': (0, 0, 255)},\n",
       " {'TOP_LEFT_X': 18,\n",
       "  'TOP_LEFT_Y': 0,\n",
       "  'BOTTOM_RIGHT_X': 39,\n",
       "  'BOTTOM_RIGHT_Y': 27,\n",
       "  'MATCH_VALUE': 0.93893915,\n",
       "  'LABEL': 'm',\n",
       "  'COLOR': (0, 0, 255)},\n",
       " {'TOP_LEFT_X': 40,\n",
       "  'TOP_LEFT_Y': 0,\n",
       "  'BOTTOM_RIGHT_X': 55,\n",
       "  'BOTTOM_RIGHT_Y': 27,\n",
       "  'MATCH_VALUE': 0.8984638,\n",
       "  'LABEL': 'o',\n",
       "  'COLOR': (0, 0, 255)},\n",
       " {'TOP_LEFT_X': 56,\n",
       "  'TOP_LEFT_Y': 0,\n",
       "  'BOTTOM_RIGHT_X': 64,\n",
       "  'BOTTOM_RIGHT_Y': 27,\n",
       "  'MATCH_VALUE': 0.98869807,\n",
       "  'LABEL': 'i',\n",
       "  'COLOR': (0, 0, 255)}]"
      ]
     },
     "execution_count": 80,
     "metadata": {},
     "output_type": "execute_result"
    }
   ],
   "source": [
    "detections"
   ]
  },
  {
   "cell_type": "code",
   "execution_count": 81,
   "id": "4141bf31",
   "metadata": {},
   "outputs": [],
   "source": [
    "# Draw detection box\n",
    "images_with_detections = []\n",
    "for detection in detections:\n",
    "    i_ = img_.copy()\n",
    "    cv2.rectangle(\n",
    "        i_,\n",
    "        (detection[\"TOP_LEFT_X\"], detection[\"TOP_LEFT_Y\"]),\n",
    "        (detection[\"BOTTOM_RIGHT_X\"], detection[\"BOTTOM_RIGHT_Y\"]),\n",
    "        detection[\"COLOR\"],\n",
    "        1\n",
    "    )\n",
    "    images_with_detections.append(i_)"
   ]
  },
  {
   "cell_type": "code",
   "execution_count": 91,
   "id": "35ec17c6",
   "metadata": {},
   "outputs": [
    {
     "data": {
      "image/png": "[encoded data removed]",
      "text/plain": [
       "<Figure size 1152x864 with 4 Axes>"
      ]
     },
     "metadata": {
      "needs_background": "light"
     },
     "output_type": "display_data"
    }
   ],
   "source": [
    "# Plot detections\n",
    "fig, axs = plt.subplots(nrows=len(images_with_detections), ncols=1, figsize=(16,12))\n",
    "for idx, ax in enumerate(axs):\n",
    "    ax.imshow(images_with_detections[idx][:,:,::-1])\n",
    "    ax.set_title(f\"Label = {detections[idx]['LABEL']}, Match = {detections[idx]['MATCH_VALUE']}\")\n",
    "    \n",
    "plt.subplots_adjust(left=0.1,\n",
    "                    bottom=0.1, \n",
    "                    right=0.9, \n",
    "                    top=0.9, \n",
    "                    wspace=0.5, \n",
    "                    hspace=0.5)\n",
    "plt.show()"
   ]
  },
  {
   "cell_type": "code",
   "execution_count": null,
   "id": "6775281c",
   "metadata": {},
   "outputs": [],
   "source": []
  },
  {
   "cell_type": "code",
   "execution_count": null,
   "id": "6693470f",
   "metadata": {},
   "outputs": [],
   "source": []
  }
 ],
 "metadata": {
  "kernelspec": {
   "display_name": "Python 3 (ipykernel)",
   "language": "python",
   "name": "python3"
  },
  "language_info": {
   "codemirror_mode": {
    "name": "ipython",
    "version": 3
   },
   "file_extension": ".py",
   "mimetype": "text/x-python",
   "name": "python",
   "nbconvert_exporter": "python",
   "pygments_lexer": "ipython3",
   "version": "3.9.12"
  }
 },
 "nbformat": 4,
 "nbformat_minor": 5
}

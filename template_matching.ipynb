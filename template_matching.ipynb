{
 "cells": [
  {
   "cell_type": "code",
   "execution_count": 82,
   "id": "f1706d75",
   "metadata": {},
   "outputs": [],
   "source": [
    "import cv2\n",
    "import numpy as np\n",
    "from matplotlib import pyplot as plt"
   ]
  },
  {
   "cell_type": "code",
   "execution_count": 2,
   "id": "760b0d3e",
   "metadata": {},
   "outputs": [],
   "source": [
    "DEFAULT_TEMPLATE_MATCHING_THRESHOLD = 0.5"
   ]
  },
  {
   "cell_type": "code",
   "execution_count": 3,
   "id": "d3b14b09",
   "metadata": {},
   "outputs": [],
   "source": [
    "class Template:\n",
    "    def __init__(\n",
    "        self,\n",
    "        image_path,\n",
    "        label,\n",
    "        color,\n",
    "        matching_threshold=DEFAULT_TEMPLATE_MATCHING_THRESHOLD\n",
    "    ):\n",
    "        self.image_path = image_path\n",
    "        self.label = label\n",
    "        self.color = color\n",
    "        self.template = cv2.imread(image_path)\n",
    "        self.template_height, self.template_width = self.template.shape[:2]\n",
    "        self.matching_threshold = matching_threshold"
   ]
  },
  {
   "cell_type": "code",
   "execution_count": 16,
   "id": "3bfe7eb9",
   "metadata": {},
   "outputs": [],
   "source": [
    "FILE = 'test.png'"
   ]
  },
  {
   "cell_type": "code",
   "execution_count": 17,
   "id": "9cfb2fad",
   "metadata": {},
   "outputs": [],
   "source": [
    "image = cv2.imread(FILE)\n",
    "templates = [\n",
    "    Template(image_path=\"d.png\", label=\"d\", color=(0, 0, 255))\n",
    "]"
   ]
  },
  {
   "cell_type": "code",
   "execution_count": 83,
   "id": "cd0b7df3",
   "metadata": {},
   "outputs": [
    {
     "data": {
      "text/plain": [
       "<matplotlib.image.AxesImage at 0x7f79c5e6b100>"
      ]
     },
     "execution_count": 83,
     "metadata": {},
     "output_type": "execute_result"
    },
    {
     "data": {
      "image/png": "[encoded data removed]",
      "text/plain": [
       "<Figure size 432x288 with 1 Axes>"
      ]
     },
     "metadata": {
      "needs_background": "light"
     },
     "output_type": "display_data"
    }
   ],
   "source": [
    "plt.imshow(templates[0].template)"
   ]
  },
  {
   "cell_type": "code",
   "execution_count": 84,
   "id": "ed9157f8",
   "metadata": {},
   "outputs": [
    {
     "data": {
      "text/plain": [
       "<matplotlib.image.AxesImage at 0x7f79c5d56190>"
      ]
     },
     "execution_count": 84,
     "metadata": {},
     "output_type": "execute_result"
    },
    {
     "data": {
      "image/png": "[encoded data removed]",
      "text/plain": [
       "<Figure size 432x288 with 1 Axes>"
      ]
     },
     "metadata": {
      "needs_background": "light"
     },
     "output_type": "display_data"
    }
   ],
   "source": [
    "plt.imshow(image)"
   ]
  },
  {
   "cell_type": "code",
   "execution_count": 41,
   "id": "2494cd34",
   "metadata": {},
   "outputs": [],
   "source": [
    "detections = []\n",
    "for template in templates:\n",
    "    template_matching = cv2.matchTemplate(\n",
    "        template.template, image, cv2.TM_CCOEFF_NORMED\n",
    "    )\n",
    "    match_locations = np.where(template_matching >= template.matching_threshold)\n",
    "    for (x, y) in zip(match_locations[1], match_locations[0]):\n",
    "        match = {\n",
    "            \"TOP_LEFT_X\": x,\n",
    "            \"TOP_LEFT_Y\": y,\n",
    "            \"BOTTOM_RIGHT_X\": x + template.template_width,\n",
    "            \"BOTTOM_RIGHT_Y\": y + template.template_height,\n",
    "            \"MATCH_VALUE\": template_matching[y, x],\n",
    "            \"LABEL\": template.label,\n",
    "            \"COLOR\": template.color\n",
    "        }\n",
    "        \n",
    "        detections.append(match)"
   ]
  },
  {
   "cell_type": "code",
   "execution_count": 65,
   "id": "10b81182",
   "metadata": {},
   "outputs": [],
   "source": [
    "image_with_detections = image.copy()\n",
    "for detection in detections:\n",
    "    cv2.rectangle(\n",
    "        image_with_detections,\n",
    "        (detection[\"TOP_LEFT_X\"], detection[\"TOP_LEFT_Y\"]),\n",
    "        (detection[\"BOTTOM_RIGHT_X\"], detection[\"BOTTOM_RIGHT_Y\"]),\n",
    "        detection[\"COLOR\"],\n",
    "        2\n",
    "    )\n",
    "    #cv2.putText(\n",
    "    #    image_with_detections,\n",
    "    #    f\"{detection['LABEL']} - {detection['MATCH_VALUE']}\",\n",
    "    #    (detection[\"TOP_LEFT_X\"] + 2, detection[\"TOP_LEFT_Y\"] + 20),\n",
    "    #    cv2.FONT_HERSHEY_SIMPLEX,\n",
    "    #    0.5,\n",
    "    #    detection[\"COLOR\"],\n",
    "    #    1,\n",
    "    #    cv2.LINE_AA\n",
    "    #)"
   ]
  },
  {
   "cell_type": "code",
   "execution_count": 66,
   "id": "16119872",
   "metadata": {},
   "outputs": [
    {
     "data": {
      "text/plain": [
       "[{'TOP_LEFT_X': 4,\n",
       "  'TOP_LEFT_Y': 0,\n",
       "  'BOTTOM_RIGHT_X': 21,\n",
       "  'BOTTOM_RIGHT_Y': 24,\n",
       "  'MATCH_VALUE': 0.50685394,\n",
       "  'LABEL': 'd',\n",
       "  'COLOR': (0, 0, 255)},\n",
       " {'TOP_LEFT_X': 5,\n",
       "  'TOP_LEFT_Y': 0,\n",
       "  'BOTTOM_RIGHT_X': 22,\n",
       "  'BOTTOM_RIGHT_Y': 24,\n",
       "  'MATCH_VALUE': 0.7625467,\n",
       "  'LABEL': 'd',\n",
       "  'COLOR': (0, 0, 255)},\n",
       " {'TOP_LEFT_X': 6,\n",
       "  'TOP_LEFT_Y': 0,\n",
       "  'BOTTOM_RIGHT_X': 23,\n",
       "  'BOTTOM_RIGHT_Y': 24,\n",
       "  'MATCH_VALUE': 0.5068539,\n",
       "  'LABEL': 'd',\n",
       "  'COLOR': (0, 0, 255)},\n",
       " {'TOP_LEFT_X': 44,\n",
       "  'TOP_LEFT_Y': 0,\n",
       "  'BOTTOM_RIGHT_X': 61,\n",
       "  'BOTTOM_RIGHT_Y': 24,\n",
       "  'MATCH_VALUE': 0.5950329,\n",
       "  'LABEL': 'd',\n",
       "  'COLOR': (0, 0, 255)},\n",
       " {'TOP_LEFT_X': 4,\n",
       "  'TOP_LEFT_Y': 1,\n",
       "  'BOTTOM_RIGHT_X': 21,\n",
       "  'BOTTOM_RIGHT_Y': 25,\n",
       "  'MATCH_VALUE': 0.6372464,\n",
       "  'LABEL': 'd',\n",
       "  'COLOR': (0, 0, 255)},\n",
       " {'TOP_LEFT_X': 5,\n",
       "  'TOP_LEFT_Y': 1,\n",
       "  'BOTTOM_RIGHT_X': 22,\n",
       "  'BOTTOM_RIGHT_Y': 25,\n",
       "  'MATCH_VALUE': 1.0,\n",
       "  'LABEL': 'd',\n",
       "  'COLOR': (0, 0, 255)},\n",
       " {'TOP_LEFT_X': 6,\n",
       "  'TOP_LEFT_Y': 1,\n",
       "  'BOTTOM_RIGHT_X': 23,\n",
       "  'BOTTOM_RIGHT_Y': 25,\n",
       "  'MATCH_VALUE': 0.6372462,\n",
       "  'LABEL': 'd',\n",
       "  'COLOR': (0, 0, 255)},\n",
       " {'TOP_LEFT_X': 44,\n",
       "  'TOP_LEFT_Y': 1,\n",
       "  'BOTTOM_RIGHT_X': 61,\n",
       "  'BOTTOM_RIGHT_Y': 25,\n",
       "  'MATCH_VALUE': 0.7773479,\n",
       "  'LABEL': 'd',\n",
       "  'COLOR': (0, 0, 255)},\n",
       " {'TOP_LEFT_X': 45,\n",
       "  'TOP_LEFT_Y': 1,\n",
       "  'BOTTOM_RIGHT_X': 62,\n",
       "  'BOTTOM_RIGHT_Y': 25,\n",
       "  'MATCH_VALUE': 0.5493763,\n",
       "  'LABEL': 'd',\n",
       "  'COLOR': (0, 0, 255)},\n",
       " {'TOP_LEFT_X': 4,\n",
       "  'TOP_LEFT_Y': 2,\n",
       "  'BOTTOM_RIGHT_X': 21,\n",
       "  'BOTTOM_RIGHT_Y': 26,\n",
       "  'MATCH_VALUE': 0.56383216,\n",
       "  'LABEL': 'd',\n",
       "  'COLOR': (0, 0, 255)},\n",
       " {'TOP_LEFT_X': 5,\n",
       "  'TOP_LEFT_Y': 2,\n",
       "  'BOTTOM_RIGHT_X': 22,\n",
       "  'BOTTOM_RIGHT_Y': 26,\n",
       "  'MATCH_VALUE': 0.8188474,\n",
       "  'LABEL': 'd',\n",
       "  'COLOR': (0, 0, 255)},\n",
       " {'TOP_LEFT_X': 6,\n",
       "  'TOP_LEFT_Y': 2,\n",
       "  'BOTTOM_RIGHT_X': 23,\n",
       "  'BOTTOM_RIGHT_Y': 26,\n",
       "  'MATCH_VALUE': 0.563832,\n",
       "  'LABEL': 'd',\n",
       "  'COLOR': (0, 0, 255)},\n",
       " {'TOP_LEFT_X': 44,\n",
       "  'TOP_LEFT_Y': 2,\n",
       "  'BOTTOM_RIGHT_X': 61,\n",
       "  'BOTTOM_RIGHT_Y': 26,\n",
       "  'MATCH_VALUE': 0.6711324,\n",
       "  'LABEL': 'd',\n",
       "  'COLOR': (0, 0, 255)},\n",
       " {'TOP_LEFT_X': 5,\n",
       "  'TOP_LEFT_Y': 3,\n",
       "  'BOTTOM_RIGHT_X': 22,\n",
       "  'BOTTOM_RIGHT_Y': 27,\n",
       "  'MATCH_VALUE': 0.63792634,\n",
       "  'LABEL': 'd',\n",
       "  'COLOR': (0, 0, 255)},\n",
       " {'TOP_LEFT_X': 44,\n",
       "  'TOP_LEFT_Y': 3,\n",
       "  'BOTTOM_RIGHT_X': 61,\n",
       "  'BOTTOM_RIGHT_Y': 27,\n",
       "  'MATCH_VALUE': 0.5364241,\n",
       "  'LABEL': 'd',\n",
       "  'COLOR': (0, 0, 255)}]"
      ]
     },
     "execution_count": 66,
     "metadata": {},
     "output_type": "execute_result"
    }
   ],
   "source": [
    "detections"
   ]
  },
  {
   "cell_type": "code",
   "execution_count": 67,
   "id": "e444bc7d",
   "metadata": {},
   "outputs": [
    {
     "data": {
      "text/plain": [
       "True"
      ]
     },
     "execution_count": 67,
     "metadata": {},
     "output_type": "execute_result"
    }
   ],
   "source": [
    "cv2.imwrite(\"result.jpeg\", image_with_detections)"
   ]
  },
  {
   "cell_type": "code",
   "execution_count": 68,
   "id": "6655c508",
   "metadata": {},
   "outputs": [],
   "source": [
    "def compute_iou(a, b, epsilon=1e-5):\n",
    "    \"\"\" Given two boxes `a` and `b` defined as a list of four numbers:\n",
    "            [x1,y1,x2,y2]\n",
    "        where:\n",
    "            x1,y1 represent the upper left corner\n",
    "            x2,y2 represent the lower right corner\n",
    "        It returns the Intersect of Union score for these two boxes.\n",
    "\n",
    "    Args:\n",
    "        a:          (list of 4 numbers) [x1,y1,x2,y2]\n",
    "        b:          (list of 4 numbers) [x1,y1,x2,y2]\n",
    "        epsilon:    (float) Small value to prevent division by zero\n",
    "\n",
    "    Returns:\n",
    "        (float) The Intersect of Union score.\n",
    "    \"\"\"\n",
    "    # COORDINATES OF THE INTERSECTION BOX\n",
    "    x1 = max(a[0], b[0])\n",
    "    y1 = max(a[1], b[1])\n",
    "    x2 = min(a[2], b[2])\n",
    "    y2 = min(a[3], b[3])\n",
    "\n",
    "    # AREA OF OVERLAP - Area where the boxes intersect\n",
    "    width = (x2 - x1)\n",
    "    height = (y2 - y1)\n",
    "    # handle case where there is NO overlap\n",
    "    if (width<0) or (height <0):\n",
    "        return 0.0\n",
    "    area_overlap = width * height\n",
    "\n",
    "    # COMBINED AREA\n",
    "    area_a = (a[2] - a[0]) * (a[3] - a[1])\n",
    "    area_b = (b[2] - b[0]) * (b[3] - b[1])\n",
    "    area_combined = area_a + area_b - area_overlap\n",
    "\n",
    "    # RATIO OF AREA OF OVERLAP OVER COMBINED AREA\n",
    "    iou = area_overlap / (area_combined+epsilon)\n",
    "    return iou"
   ]
  },
  {
   "cell_type": "code",
   "execution_count": 74,
   "id": "979812e4",
   "metadata": {},
   "outputs": [],
   "source": [
    "def non_max_suppression(\n",
    "    objects,\n",
    "    non_max_suppression_threshold=0.5,\n",
    "    score_key=\"MATCH_VALUE\"\n",
    "):\n",
    "    sorted_objects = sorted(objects, key=lambda obj: obj[score_key], reverse=True)\n",
    "    #print(sorted_objects)\n",
    "    filtered_objects = []\n",
    "    for i1, object_ in enumerate(sorted_objects):\n",
    "        overlap_found = False\n",
    "        for i2, filtered_object in enumerate(sorted_objects):\n",
    "            # if i1 != i2:\n",
    "            box_object = [object_['TOP_LEFT_Y'], object_['TOP_LEFT_X'], object_['BOTTOM_RIGHT_Y'], object_['BOTTOM_RIGHT_X']]\n",
    "            box_filtered = [filtered_object['TOP_LEFT_Y'], filtered_object['TOP_LEFT_X'], filtered_object['BOTTOM_RIGHT_Y'], filtered_object['BOTTOM_RIGHT_X']]\n",
    "            iou = compute_iou(box_object, box_filtered)\n",
    "            print(iou)\n",
    "            if iou > non_max_suppression_threshold:\n",
    "                overlap_found = True\n",
    "                break\n",
    "            if not overlap_found:\n",
    "                filtered_objects.append(object_)\n",
    "    return filtered_objects"
   ]
  },
  {
   "cell_type": "code",
   "execution_count": 75,
   "id": "b4e9e922",
   "metadata": {},
   "outputs": [
    {
     "name": "stdout",
     "output_type": "stream",
     "text": [
      "0.9999999754901967\n",
      "0.9199999783529418\n",
      "0.0\n",
      "0.0\n",
      "0.9999999754901967\n",
      "0.9199999783529418\n",
      "0.0\n",
      "0.0\n",
      "0.9199999783529418\n",
      "0.8461538270100945\n",
      "0.8888888683127577\n",
      "0.8888888683127577\n",
      "0.0\n",
      "0.0\n",
      "0.9199999783529418\n",
      "0.8214285530931127\n",
      "0.8214285530931127\n",
      "0.0\n",
      "0.0\n",
      "0.8888888683127577\n",
      "0.0\n",
      "0.0\n",
      "0.8461538270100945\n",
      "0.8214285530931127\n",
      "0.8214285530931127\n"
     ]
    }
   ],
   "source": [
    "NMS_THRESHOLD = 0.2\n",
    "detections_ = non_max_suppression(detections, non_max_suppression_threshold=NMS_THRESHOLD)"
   ]
  },
  {
   "cell_type": "code",
   "execution_count": 86,
   "id": "aa88243f",
   "metadata": {},
   "outputs": [],
   "source": [
    "detections_ = sorted(detections, key=lambda obj: obj['MATCH_VALUE'], reverse=True)"
   ]
  },
  {
   "cell_type": "code",
   "execution_count": 87,
   "id": "4243dd44",
   "metadata": {},
   "outputs": [],
   "source": [
    "image_with_detections = image.copy()\n",
    "for detection in detections_[:1]:\n",
    "    cv2.rectangle(\n",
    "        image_with_detections,\n",
    "        (detection[\"TOP_LEFT_X\"], detection[\"TOP_LEFT_Y\"]),\n",
    "        (detection[\"BOTTOM_RIGHT_X\"], detection[\"BOTTOM_RIGHT_Y\"]),\n",
    "        detection[\"COLOR\"],\n",
    "        2\n",
    "    )\n",
    "    #cv2.putText(\n",
    "    #    image_with_detections,\n",
    "    #    f\"{detection['LABEL']} - {detection['MATCH_VALUE']}\",\n",
    "    #    (detection[\"TOP_LEFT_X\"] + 2, detection[\"TOP_LEFT_Y\"] + 20),\n",
    "    #    cv2.FONT_HERSHEY_SIMPLEX,\n",
    "    #    0.5,\n",
    "    #    detection[\"COLOR\"],\n",
    "    #    1,\n",
    "    #    cv2.LINE_AA\n",
    "    #)"
   ]
  },
  {
   "cell_type": "code",
   "execution_count": 88,
   "id": "967a85bf",
   "metadata": {},
   "outputs": [
    {
     "data": {
      "text/plain": [
       "True"
      ]
     },
     "execution_count": 88,
     "metadata": {},
     "output_type": "execute_result"
    }
   ],
   "source": [
    "cv2.imwrite(\"result_2.jpeg\", image_with_detections)"
   ]
  },
  {
   "cell_type": "code",
   "execution_count": null,
   "id": "7f3d4fde",
   "metadata": {},
   "outputs": [],
   "source": []
  }
 ],
 "metadata": {
  "kernelspec": {
   "display_name": "Python 3 (ipykernel)",
   "language": "python",
   "name": "python3"
  },
  "language_info": {
   "codemirror_mode": {
    "name": "ipython",
    "version": 3
   },
   "file_extension": ".py",
   "mimetype": "text/x-python",
   "name": "python",
   "nbconvert_exporter": "python",
   "pygments_lexer": "ipython3",
   "version": "3.9.12"
  }
 },
 "nbformat": 4,
 "nbformat_minor": 5
}
